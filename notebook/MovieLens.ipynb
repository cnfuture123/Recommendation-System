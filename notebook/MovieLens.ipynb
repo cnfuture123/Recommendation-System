{
 "cells": [
  {
   "cell_type": "code",
   "execution_count": 1,
   "metadata": {},
   "outputs": [],
   "source": [
    "from surprise import KNNBasic, BaselineOnly, NormalPredictor, KNNWithMeans, KNNBaseline, SVDpp, SVD, NMF\n",
    "from surprise import Dataset\n",
    "from surprise import evaluate, print_perf\n",
    "from surprise.model_selection import cross_validate, GridSearchCV\n",
    "from surprise import Reader\n",
    "import os\n",
    "import io"
   ]
  },
  {
   "cell_type": "code",
   "execution_count": 2,
   "metadata": {},
   "outputs": [],
   "source": [
    "# load MovieLens dataset\n",
    "dirname = os.path.dirname(\"__file__\")\n",
    "filename = os.path.join(dirname, 'dataset/ml-100k/u.data')\n",
    "reader = Reader(line_format='user item rating timestamp', sep='\\t')\n",
    "data = Dataset.load_from_file(filename, reader)"
   ]
  },
  {
   "cell_type": "markdown",
   "metadata": {},
   "source": [
    "Train model using different algorithms in Surprise"
   ]
  },
  {
   "cell_type": "markdown",
   "metadata": {},
   "source": [
    "1.KNNBasic "
   ]
  },
  {
   "cell_type": "code",
   "execution_count": 3,
   "metadata": {},
   "outputs": [
    {
     "name": "stdout",
     "output_type": "stream",
     "text": [
      "Estimating biases using als...\n",
      "Computing the pearson_baseline similarity matrix...\n",
      "Done computing similarity matrix.\n",
      "Estimating biases using als...\n",
      "Computing the pearson_baseline similarity matrix...\n",
      "Done computing similarity matrix.\n",
      "Estimating biases using als...\n",
      "Computing the pearson_baseline similarity matrix...\n",
      "Done computing similarity matrix.\n",
      "        Fold 1  Fold 2  Fold 3  Mean    \n",
      "TEST_RMSE1.0082  1.0107  1.0030  1.0073  \n",
      "FIT_TIME5.8820  5.6620  5.5680  5.7040  \n",
      "TEST_TIME14.5570 15.3710 13.7760 14.5680 \n"
     ]
    }
   ],
   "source": [
    "sim_options = {'name': 'pearson_baseline', 'user_based': False}\n",
    "\n",
    "alg = KNNBasic(sim_options=sim_options)\n",
    "perf = cross_validate(alg, data, measures=['RMSE'], cv=3)\n",
    "print_perf(perf)"
   ]
  },
  {
   "cell_type": "markdown",
   "metadata": {},
   "source": [
    "2.KNNWithMeans"
   ]
  },
  {
   "cell_type": "code",
   "execution_count": 4,
   "metadata": {
    "scrolled": true
   },
   "outputs": [
    {
     "name": "stdout",
     "output_type": "stream",
     "text": [
      "Estimating biases using als...\n",
      "Computing the pearson_baseline similarity matrix...\n",
      "Done computing similarity matrix.\n",
      "Estimating biases using als...\n",
      "Computing the pearson_baseline similarity matrix...\n",
      "Done computing similarity matrix.\n",
      "Estimating biases using als...\n",
      "Computing the pearson_baseline similarity matrix...\n",
      "Done computing similarity matrix.\n",
      "        Fold 1  Fold 2  Fold 3  Mean    \n",
      "TEST_RMSE0.9373  0.9360  0.9298  0.9343  \n",
      "FIT_TIME5.0590  5.8020  5.3520  5.4043  \n",
      "TEST_TIME16.1350 16.2540 15.8750 16.0880 \n"
     ]
    }
   ],
   "source": [
    "sim_options = {'name': 'pearson_baseline', 'user_based': False}\n",
    "\n",
    "alg = KNNWithMeans(sim_options=sim_options)\n",
    "perf = cross_validate(alg, data, measures=['RMSE'], cv=3)\n",
    "print_perf(perf)"
   ]
  },
  {
   "cell_type": "markdown",
   "metadata": {},
   "source": [
    "3.KNNBaseline"
   ]
  },
  {
   "cell_type": "code",
   "execution_count": 5,
   "metadata": {},
   "outputs": [
    {
     "name": "stdout",
     "output_type": "stream",
     "text": [
      "Estimating biases using als...\n",
      "Computing the pearson_baseline similarity matrix...\n",
      "Done computing similarity matrix.\n",
      "Estimating biases using als...\n",
      "Computing the pearson_baseline similarity matrix...\n",
      "Done computing similarity matrix.\n",
      "Estimating biases using als...\n",
      "Computing the pearson_baseline similarity matrix...\n",
      "Done computing similarity matrix.\n",
      "        Fold 1  Fold 2  Fold 3  Mean    \n",
      "TEST_RMSE0.9244  0.9299  0.9275  0.9272  \n",
      "FIT_TIME5.7800  5.9480  5.6190  5.7823  \n",
      "TEST_TIME18.0030 19.0140 18.2310 18.4160 \n"
     ]
    }
   ],
   "source": [
    "sim_options = {'name': 'pearson_baseline', 'user_based': False}\n",
    "\n",
    "alg = KNNBaseline(sim_options=sim_options)\n",
    "perf = cross_validate(alg, data, measures=['RMSE'], cv=3)\n",
    "print_perf(perf)"
   ]
  },
  {
   "cell_type": "markdown",
   "metadata": {},
   "source": [
    "4.BaselineOnly"
   ]
  },
  {
   "cell_type": "code",
   "execution_count": 6,
   "metadata": {},
   "outputs": [
    {
     "name": "stdout",
     "output_type": "stream",
     "text": [
      "Estimating biases using sgd...\n",
      "Estimating biases using sgd...\n",
      "Estimating biases using sgd...\n",
      "Estimating biases using sgd...\n",
      "Estimating biases using sgd...\n",
      "Estimating biases using sgd...\n",
      "Estimating biases using sgd...\n",
      "Estimating biases using sgd...\n",
      "Estimating biases using sgd...\n",
      "Estimating biases using sgd...\n",
      "Estimating biases using sgd...\n",
      "Estimating biases using sgd...\n",
      "Estimating biases using sgd...\n",
      "Estimating biases using sgd...\n",
      "Estimating biases using sgd...\n",
      "Estimating biases using sgd...\n",
      "Estimating biases using sgd...\n",
      "Estimating biases using sgd...\n",
      "Estimating biases using sgd...\n",
      "Estimating biases using sgd...\n",
      "Estimating biases using sgd...\n",
      "Estimating biases using sgd...\n",
      "Estimating biases using sgd...\n",
      "Estimating biases using sgd...\n",
      "Estimating biases using sgd...\n",
      "Estimating biases using sgd...\n",
      "Estimating biases using sgd...\n",
      "0.944231389941042\n",
      "{'bsl_options': {'method': 'sgd', 'reg': 0.02, 'learning_rate': 0.008}}\n"
     ]
    }
   ],
   "source": [
    "bsl_options = {'method': ['sgd'], 'reg': [0.02, 0.04, 0.06], 'learning_rate': [0.002, 0.005, 0.008]}\n",
    "param_grid = {'bsl_options': bsl_options}\n",
    "\n",
    "#alg = BaselineOnly()\n",
    "gs = GridSearchCV(BaselineOnly, param_grid, measures=['rmse'], cv=3)\n",
    "gs.fit(data)\n",
    "\n",
    "# best RMSE score\n",
    "print(gs.best_score['rmse'])\n",
    "\n",
    "# combination of parameters that gave the best RMSE score\n",
    "print(gs.best_params['rmse'])\n"
   ]
  },
  {
   "cell_type": "markdown",
   "metadata": {},
   "source": [
    "5.NormalPredictor"
   ]
  },
  {
   "cell_type": "code",
   "execution_count": 7,
   "metadata": {},
   "outputs": [
    {
     "name": "stdout",
     "output_type": "stream",
     "text": [
      "        Fold 1  Fold 2  Fold 3  Mean    \n",
      "TEST_RMSE1.5247  1.5175  1.5150  1.5191  \n",
      "FIT_TIME0.2610  0.2680  0.2600  0.2630  \n",
      "TEST_TIME0.7280  0.6060  0.6140  0.6493  \n"
     ]
    }
   ],
   "source": [
    "alg = NormalPredictor()\n",
    "perf = cross_validate(alg, data, measures=['RMSE'], cv=3)\n",
    "print_perf(perf)"
   ]
  },
  {
   "cell_type": "markdown",
   "metadata": {},
   "source": [
    "6.SVD"
   ]
  },
  {
   "cell_type": "code",
   "execution_count": 8,
   "metadata": {},
   "outputs": [
    {
     "name": "stdout",
     "output_type": "stream",
     "text": [
      "0.9481902425711644\n",
      "{'n_epochs': 15, 'lr_all': 0.008, 'reg_all': 0.2}\n"
     ]
    }
   ],
   "source": [
    "param_grid = {'n_epochs': [5, 10, 15], 'lr_all': [0.002, 0.004, 0.008], 'reg_all': [0.2, 0.5, 0.8]}\n",
    "gs = GridSearchCV(SVD, param_grid, measures=['rmse'], cv=3)\n",
    "\n",
    "gs.fit(data)\n",
    "\n",
    "# best RMSE score\n",
    "print(gs.best_score['rmse'])\n",
    "\n",
    "# combination of parameters that gave the best RMSE score\n",
    "print(gs.best_params['rmse'])\n"
   ]
  },
  {
   "cell_type": "markdown",
   "metadata": {},
   "source": [
    "7.SVDpp"
   ]
  },
  {
   "cell_type": "code",
   "execution_count": 3,
   "metadata": {},
   "outputs": [
    {
     "name": "stdout",
     "output_type": "stream",
     "text": [
      "0.956871414282793\n",
      "{'n_epochs': 10, 'lr_all': 0.004, 'reg_all': 0.2}\n"
     ]
    }
   ],
   "source": [
    "param_grid = {'n_epochs': [5, 10], 'lr_all': [0.002, 0.004], 'reg_all': [0.2, 0.5]}\n",
    "gs = GridSearchCV(SVDpp, param_grid, measures=['rmse'], cv=3)\n",
    "\n",
    "gs.fit(data)\n",
    "\n",
    "# best RMSE score\n",
    "print(gs.best_score['rmse'])\n",
    "\n",
    "# combination of parameters that gave the best RMSE score\n",
    "print(gs.best_params['rmse'])\n"
   ]
  },
  {
   "cell_type": "markdown",
   "metadata": {},
   "source": [
    "8.NMF"
   ]
  },
  {
   "cell_type": "code",
   "execution_count": 4,
   "metadata": {},
   "outputs": [
    {
     "name": "stdout",
     "output_type": "stream",
     "text": [
      "1.002760792834376\n",
      "{'n_epochs': 10}\n"
     ]
    }
   ],
   "source": [
    "param_grid = {'n_epochs': [5, 10, 15]}\n",
    "gs = GridSearchCV(NMF, param_grid, measures=['rmse'], cv=3)\n",
    "\n",
    "gs.fit(data)\n",
    "\n",
    "# best RMSE score\n",
    "print(gs.best_score['rmse'])\n",
    "\n",
    "# combination of parameters that gave the best RMSE score\n",
    "print(gs.best_params['rmse'])\n"
   ]
  },
  {
   "cell_type": "code",
   "execution_count": 3,
   "metadata": {},
   "outputs": [],
   "source": [
    "# movie id and name mapping\n",
    "def read_item_names():\n",
    "    dirname = os.path.dirname(\"__file__\")\n",
    "    filename = os.path.join(dirname, 'dataset/ml-100k/u.item')\n",
    "    rid_to_name = {}\n",
    "    name_to_rid = {}\n",
    "    with io.open(filename, 'r', encoding='ISO-8859-1') as f:\n",
    "        for line in f:\n",
    "            line = line.split('|')\n",
    "            rid_to_name[line[0]] = line[1]\n",
    "            name_to_rid[line[1]] = line[0]\n",
    "    return rid_to_name, name_to_rid\n"
   ]
  },
  {
   "cell_type": "code",
   "execution_count": 4,
   "metadata": {},
   "outputs": [],
   "source": [
    "# show topN similar movies as given movie_name\n",
    "def showSimilarMovies(alg, rid_to_name, name_to_rid, movie_name, topN):\n",
    "    # get movie raw_id\n",
    "    movie_raw_id = name_to_rid[movie_name]\n",
    "    # convert raw_id to inner_id\n",
    "    movie_inner_id = alg.trainset.to_inner_iid(movie_raw_id)\n",
    "    # get topN similar movies\n",
    "    neighbor_movie_ids = alg.get_neighbors(movie_inner_id, topN)\n",
    "    neighbors_raw_ids = [alg.trainset.to_raw_iid(inner_id) for inner_id in neighbor_movie_ids]\n",
    "    neighbors_movies = [rid_to_name[raw_id] for raw_id in neighbors_raw_ids]\n",
    "    print(\"The \" + str(topN)  + \" nearest neighbors of \" + movie_name + \" are: \")\n",
    "    print()\n",
    "    for movie in neighbors_movies:\n",
    "        print(movie)"
   ]
  },
  {
   "cell_type": "markdown",
   "metadata": {},
   "source": [
    "Choose KNNBaseline alg to build model"
   ]
  },
  {
   "cell_type": "code",
   "execution_count": 5,
   "metadata": {},
   "outputs": [
    {
     "name": "stdout",
     "output_type": "stream",
     "text": [
      "Estimating biases using als...\n",
      "Computing the pearson_baseline similarity matrix...\n",
      "Done computing similarity matrix.\n"
     ]
    },
    {
     "data": {
      "text/plain": [
       "<surprise.prediction_algorithms.knns.KNNBaseline at 0x914d668>"
      ]
     },
     "execution_count": 5,
     "metadata": {},
     "output_type": "execute_result"
    }
   ],
   "source": [
    "# Use KNNBaseline to build model\n",
    "sim_options = {'name': 'pearson_baseline', 'user_based': False}\n",
    "trainset = data.build_full_trainset()\n",
    "alg = KNNBaseline(sim_options=sim_options)\n",
    "alg.fit(trainset)\n"
   ]
  },
  {
   "cell_type": "code",
   "execution_count": 6,
   "metadata": {},
   "outputs": [
    {
     "name": "stdout",
     "output_type": "stream",
     "text": [
      "The 5 nearest neighbors of Twelve Monkeys (1995) are: \n",
      "\n",
      "Bob Roberts (1992)\n",
      "Star Trek: The Wrath of Khan (1982)\n",
      "Dead Man Walking (1995)\n",
      "Clockwork Orange, A (1971)\n",
      "Brazil (1985)\n"
     ]
    }
   ],
   "source": [
    "rid_to_name, name_to_rid = read_item_names()\n",
    "movie_name = \"Twelve Monkeys (1995)\"\n",
    "\n",
    "# get topN recommondation based on given movie name\n",
    "showSimilarMovies(alg, rid_to_name, name_to_rid, movie_name, 5)\n"
   ]
  }
 ],
 "metadata": {
  "kernelspec": {
   "display_name": "Python 3",
   "language": "python",
   "name": "python3"
  },
  "language_info": {
   "codemirror_mode": {
    "name": "ipython",
    "version": 3
   },
   "file_extension": ".py",
   "mimetype": "text/x-python",
   "name": "python",
   "nbconvert_exporter": "python",
   "pygments_lexer": "ipython3",
   "version": "3.6.7"
  }
 },
 "nbformat": 4,
 "nbformat_minor": 2
}
